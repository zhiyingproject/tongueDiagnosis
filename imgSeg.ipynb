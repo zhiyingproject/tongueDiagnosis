{
  "nbformat": 4,
  "nbformat_minor": 0,
  "metadata": {
    "colab": {
      "name": "imgSeg.ipynb",
      "provenance": [],
      "collapsed_sections": [],
      "include_colab_link": true
    },
    "kernelspec": {
      "name": "python3",
      "display_name": "Python 3"
    },
    "language_info": {
      "name": "python"
    },
    "accelerator": "GPU"
  },
  "cells": [
    {
      "cell_type": "markdown",
      "metadata": {
        "id": "view-in-github",
        "colab_type": "text"
      },
      "source": [
        "<a href=\"https://colab.research.google.com/github/zhiyingproject/tongueDiagnosis/blob/main/imgSeg.ipynb\" target=\"_parent\"><img src=\"https://colab.research.google.com/assets/colab-badge.svg\" alt=\"Open In Colab\"/></a>"
      ]
    },
    {
      "cell_type": "code",
      "metadata": {
        "colab": {
          "base_uri": "https://localhost:8080/"
        },
        "id": "ECDyxU8NSj1l",
        "outputId": "b1ea55bc-f682-49d8-bb4f-a3cda4916e03"
      },
      "source": [
        "# This notebook is to train a model for locating tongues from people's faces. It is for tongue diagnosis using traditional Chinese Medical Theory (TCM)\n",
        "!pip uninstall keras-nightly\n",
        "!pip install h5py==2.10.0\n",
        "!pip install --upgrade tensorflow==1.15.0\n",
        "!pip install --upgrade tensorflow-gpu==1.15\n",
        "# !pip install --upgrade keras==2.2.4\n",
        "!python -m pip install -U scikit-image==0.16.2\n",
        "# !pip uninstall keras \n",
        "!pip install keras==2.2.4\n",
        "!pip install wcmatch\n",
        "# %tensorflow_version 1.x"
      ],
      "execution_count": 1,
      "outputs": [
        {
          "output_type": "stream",
          "text": [
            "\u001b[33mWARNING: Skipping keras-nightly as it is not installed.\u001b[0m\n",
            "Collecting h5py==2.10.0\n",
            "  Downloading h5py-2.10.0-cp37-cp37m-manylinux1_x86_64.whl (2.9 MB)\n",
            "\u001b[K     |████████████████████████████████| 2.9 MB 8.1 MB/s \n",
            "\u001b[?25hRequirement already satisfied: six in /usr/local/lib/python3.7/dist-packages (from h5py==2.10.0) (1.15.0)\n",
            "Requirement already satisfied: numpy>=1.7 in /usr/local/lib/python3.7/dist-packages (from h5py==2.10.0) (1.19.5)\n",
            "Installing collected packages: h5py\n",
            "  Attempting uninstall: h5py\n",
            "    Found existing installation: h5py 3.1.0\n",
            "    Uninstalling h5py-3.1.0:\n",
            "      Successfully uninstalled h5py-3.1.0\n",
            "\u001b[31mERROR: pip's dependency resolver does not currently take into account all the packages that are installed. This behaviour is the source of the following dependency conflicts.\n",
            "tensorflow 2.6.0 requires h5py~=3.1.0, but you have h5py 2.10.0 which is incompatible.\u001b[0m\n",
            "Successfully installed h5py-2.10.0\n",
            "Collecting tensorflow==1.15.0\n",
            "  Downloading tensorflow-1.15.0-cp37-cp37m-manylinux2010_x86_64.whl (412.3 MB)\n",
            "\u001b[K     |████████████████████████████████| 412.3 MB 24 kB/s \n",
            "\u001b[?25hRequirement already satisfied: numpy<2.0,>=1.16.0 in /usr/local/lib/python3.7/dist-packages (from tensorflow==1.15.0) (1.19.5)\n",
            "Requirement already satisfied: six>=1.10.0 in /usr/local/lib/python3.7/dist-packages (from tensorflow==1.15.0) (1.15.0)\n",
            "Requirement already satisfied: termcolor>=1.1.0 in /usr/local/lib/python3.7/dist-packages (from tensorflow==1.15.0) (1.1.0)\n",
            "Collecting tensorboard<1.16.0,>=1.15.0\n",
            "  Downloading tensorboard-1.15.0-py3-none-any.whl (3.8 MB)\n",
            "\u001b[K     |████████████████████████████████| 3.8 MB 57.9 MB/s \n",
            "\u001b[?25hRequirement already satisfied: absl-py>=0.7.0 in /usr/local/lib/python3.7/dist-packages (from tensorflow==1.15.0) (0.12.0)\n",
            "Requirement already satisfied: google-pasta>=0.1.6 in /usr/local/lib/python3.7/dist-packages (from tensorflow==1.15.0) (0.2.0)\n",
            "Collecting keras-applications>=1.0.8\n",
            "  Downloading Keras_Applications-1.0.8-py3-none-any.whl (50 kB)\n",
            "\u001b[K     |████████████████████████████████| 50 kB 9.0 MB/s \n",
            "\u001b[?25hRequirement already satisfied: opt-einsum>=2.3.2 in /usr/local/lib/python3.7/dist-packages (from tensorflow==1.15.0) (3.3.0)\n",
            "Collecting tensorflow-estimator==1.15.1\n",
            "  Downloading tensorflow_estimator-1.15.1-py2.py3-none-any.whl (503 kB)\n",
            "\u001b[K     |████████████████████████████████| 503 kB 74.0 MB/s \n",
            "\u001b[?25hRequirement already satisfied: protobuf>=3.6.1 in /usr/local/lib/python3.7/dist-packages (from tensorflow==1.15.0) (3.17.3)\n",
            "Requirement already satisfied: wrapt>=1.11.1 in /usr/local/lib/python3.7/dist-packages (from tensorflow==1.15.0) (1.12.1)\n",
            "Requirement already satisfied: wheel>=0.26 in /usr/local/lib/python3.7/dist-packages (from tensorflow==1.15.0) (0.37.0)\n",
            "Requirement already satisfied: astor>=0.6.0 in /usr/local/lib/python3.7/dist-packages (from tensorflow==1.15.0) (0.8.1)\n",
            "Requirement already satisfied: keras-preprocessing>=1.0.5 in /usr/local/lib/python3.7/dist-packages (from tensorflow==1.15.0) (1.1.2)\n",
            "Requirement already satisfied: grpcio>=1.8.6 in /usr/local/lib/python3.7/dist-packages (from tensorflow==1.15.0) (1.39.0)\n",
            "Collecting gast==0.2.2\n",
            "  Downloading gast-0.2.2.tar.gz (10 kB)\n",
            "Requirement already satisfied: h5py in /usr/local/lib/python3.7/dist-packages (from keras-applications>=1.0.8->tensorflow==1.15.0) (2.10.0)\n",
            "Requirement already satisfied: setuptools>=41.0.0 in /usr/local/lib/python3.7/dist-packages (from tensorboard<1.16.0,>=1.15.0->tensorflow==1.15.0) (57.4.0)\n",
            "Requirement already satisfied: markdown>=2.6.8 in /usr/local/lib/python3.7/dist-packages (from tensorboard<1.16.0,>=1.15.0->tensorflow==1.15.0) (3.3.4)\n",
            "Requirement already satisfied: werkzeug>=0.11.15 in /usr/local/lib/python3.7/dist-packages (from tensorboard<1.16.0,>=1.15.0->tensorflow==1.15.0) (1.0.1)\n",
            "Requirement already satisfied: importlib-metadata in /usr/local/lib/python3.7/dist-packages (from markdown>=2.6.8->tensorboard<1.16.0,>=1.15.0->tensorflow==1.15.0) (4.6.4)\n",
            "Requirement already satisfied: typing-extensions>=3.6.4 in /usr/local/lib/python3.7/dist-packages (from importlib-metadata->markdown>=2.6.8->tensorboard<1.16.0,>=1.15.0->tensorflow==1.15.0) (3.7.4.3)\n",
            "Requirement already satisfied: zipp>=0.5 in /usr/local/lib/python3.7/dist-packages (from importlib-metadata->markdown>=2.6.8->tensorboard<1.16.0,>=1.15.0->tensorflow==1.15.0) (3.5.0)\n",
            "Building wheels for collected packages: gast\n",
            "  Building wheel for gast (setup.py) ... \u001b[?25l\u001b[?25hdone\n",
            "  Created wheel for gast: filename=gast-0.2.2-py3-none-any.whl size=7554 sha256=bd1479ddefdaa3718eb1afe3b51e5c54d51e70138f100ef585c558e14f2de802\n",
            "  Stored in directory: /root/.cache/pip/wheels/21/7f/02/420f32a803f7d0967b48dd823da3f558c5166991bfd204eef3\n",
            "Successfully built gast\n",
            "Installing collected packages: tensorflow-estimator, tensorboard, keras-applications, gast, tensorflow\n",
            "  Attempting uninstall: tensorflow-estimator\n",
            "    Found existing installation: tensorflow-estimator 2.6.0\n",
            "    Uninstalling tensorflow-estimator-2.6.0:\n",
            "      Successfully uninstalled tensorflow-estimator-2.6.0\n",
            "  Attempting uninstall: tensorboard\n",
            "    Found existing installation: tensorboard 2.6.0\n",
            "    Uninstalling tensorboard-2.6.0:\n",
            "      Successfully uninstalled tensorboard-2.6.0\n",
            "  Attempting uninstall: gast\n",
            "    Found existing installation: gast 0.4.0\n",
            "    Uninstalling gast-0.4.0:\n",
            "      Successfully uninstalled gast-0.4.0\n",
            "  Attempting uninstall: tensorflow\n",
            "    Found existing installation: tensorflow 2.6.0\n",
            "    Uninstalling tensorflow-2.6.0:\n",
            "      Successfully uninstalled tensorflow-2.6.0\n",
            "\u001b[31mERROR: pip's dependency resolver does not currently take into account all the packages that are installed. This behaviour is the source of the following dependency conflicts.\n",
            "tensorflow-probability 0.13.0 requires gast>=0.3.2, but you have gast 0.2.2 which is incompatible.\n",
            "kapre 0.3.5 requires tensorflow>=2.0.0, but you have tensorflow 1.15.0 which is incompatible.\u001b[0m\n",
            "Successfully installed gast-0.2.2 keras-applications-1.0.8 tensorboard-1.15.0 tensorflow-1.15.0 tensorflow-estimator-1.15.1\n",
            "Collecting tensorflow-gpu==1.15\n",
            "  Downloading tensorflow_gpu-1.15.0-cp37-cp37m-manylinux2010_x86_64.whl (411.5 MB)\n",
            "\u001b[K     |████████████████████████████████| 411.5 MB 3.0 kB/s \n",
            "\u001b[?25hRequirement already satisfied: grpcio>=1.8.6 in /usr/local/lib/python3.7/dist-packages (from tensorflow-gpu==1.15) (1.39.0)\n",
            "Requirement already satisfied: absl-py>=0.7.0 in /usr/local/lib/python3.7/dist-packages (from tensorflow-gpu==1.15) (0.12.0)\n",
            "Requirement already satisfied: keras-preprocessing>=1.0.5 in /usr/local/lib/python3.7/dist-packages (from tensorflow-gpu==1.15) (1.1.2)\n",
            "Requirement already satisfied: wheel>=0.26 in /usr/local/lib/python3.7/dist-packages (from tensorflow-gpu==1.15) (0.37.0)\n",
            "Requirement already satisfied: tensorflow-estimator==1.15.1 in /usr/local/lib/python3.7/dist-packages (from tensorflow-gpu==1.15) (1.15.1)\n",
            "Requirement already satisfied: opt-einsum>=2.3.2 in /usr/local/lib/python3.7/dist-packages (from tensorflow-gpu==1.15) (3.3.0)\n",
            "Requirement already satisfied: numpy<2.0,>=1.16.0 in /usr/local/lib/python3.7/dist-packages (from tensorflow-gpu==1.15) (1.19.5)\n",
            "Requirement already satisfied: termcolor>=1.1.0 in /usr/local/lib/python3.7/dist-packages (from tensorflow-gpu==1.15) (1.1.0)\n",
            "Requirement already satisfied: gast==0.2.2 in /usr/local/lib/python3.7/dist-packages (from tensorflow-gpu==1.15) (0.2.2)\n",
            "Requirement already satisfied: six>=1.10.0 in /usr/local/lib/python3.7/dist-packages (from tensorflow-gpu==1.15) (1.15.0)\n",
            "Requirement already satisfied: wrapt>=1.11.1 in /usr/local/lib/python3.7/dist-packages (from tensorflow-gpu==1.15) (1.12.1)\n",
            "Requirement already satisfied: protobuf>=3.6.1 in /usr/local/lib/python3.7/dist-packages (from tensorflow-gpu==1.15) (3.17.3)\n",
            "Requirement already satisfied: tensorboard<1.16.0,>=1.15.0 in /usr/local/lib/python3.7/dist-packages (from tensorflow-gpu==1.15) (1.15.0)\n",
            "Requirement already satisfied: keras-applications>=1.0.8 in /usr/local/lib/python3.7/dist-packages (from tensorflow-gpu==1.15) (1.0.8)\n",
            "Requirement already satisfied: google-pasta>=0.1.6 in /usr/local/lib/python3.7/dist-packages (from tensorflow-gpu==1.15) (0.2.0)\n",
            "Requirement already satisfied: astor>=0.6.0 in /usr/local/lib/python3.7/dist-packages (from tensorflow-gpu==1.15) (0.8.1)\n",
            "Requirement already satisfied: h5py in /usr/local/lib/python3.7/dist-packages (from keras-applications>=1.0.8->tensorflow-gpu==1.15) (2.10.0)\n",
            "Requirement already satisfied: werkzeug>=0.11.15 in /usr/local/lib/python3.7/dist-packages (from tensorboard<1.16.0,>=1.15.0->tensorflow-gpu==1.15) (1.0.1)\n",
            "Requirement already satisfied: markdown>=2.6.8 in /usr/local/lib/python3.7/dist-packages (from tensorboard<1.16.0,>=1.15.0->tensorflow-gpu==1.15) (3.3.4)\n",
            "Requirement already satisfied: setuptools>=41.0.0 in /usr/local/lib/python3.7/dist-packages (from tensorboard<1.16.0,>=1.15.0->tensorflow-gpu==1.15) (57.4.0)\n",
            "Requirement already satisfied: importlib-metadata in /usr/local/lib/python3.7/dist-packages (from markdown>=2.6.8->tensorboard<1.16.0,>=1.15.0->tensorflow-gpu==1.15) (4.6.4)\n",
            "Requirement already satisfied: zipp>=0.5 in /usr/local/lib/python3.7/dist-packages (from importlib-metadata->markdown>=2.6.8->tensorboard<1.16.0,>=1.15.0->tensorflow-gpu==1.15) (3.5.0)\n",
            "Requirement already satisfied: typing-extensions>=3.6.4 in /usr/local/lib/python3.7/dist-packages (from importlib-metadata->markdown>=2.6.8->tensorboard<1.16.0,>=1.15.0->tensorflow-gpu==1.15) (3.7.4.3)\n",
            "Installing collected packages: tensorflow-gpu\n",
            "Successfully installed tensorflow-gpu-1.15.0\n",
            "Requirement already satisfied: scikit-image==0.16.2 in /usr/local/lib/python3.7/dist-packages (0.16.2)\n",
            "Requirement already satisfied: matplotlib!=3.0.0,>=2.0.0 in /usr/local/lib/python3.7/dist-packages (from scikit-image==0.16.2) (3.2.2)\n",
            "Requirement already satisfied: PyWavelets>=0.4.0 in /usr/local/lib/python3.7/dist-packages (from scikit-image==0.16.2) (1.1.1)\n",
            "Requirement already satisfied: pillow>=4.3.0 in /usr/local/lib/python3.7/dist-packages (from scikit-image==0.16.2) (7.1.2)\n",
            "Requirement already satisfied: imageio>=2.3.0 in /usr/local/lib/python3.7/dist-packages (from scikit-image==0.16.2) (2.4.1)\n",
            "Requirement already satisfied: scipy>=0.19.0 in /usr/local/lib/python3.7/dist-packages (from scikit-image==0.16.2) (1.4.1)\n",
            "Requirement already satisfied: networkx>=2.0 in /usr/local/lib/python3.7/dist-packages (from scikit-image==0.16.2) (2.6.2)\n",
            "Requirement already satisfied: numpy in /usr/local/lib/python3.7/dist-packages (from imageio>=2.3.0->scikit-image==0.16.2) (1.19.5)\n",
            "Requirement already satisfied: kiwisolver>=1.0.1 in /usr/local/lib/python3.7/dist-packages (from matplotlib!=3.0.0,>=2.0.0->scikit-image==0.16.2) (1.3.1)\n",
            "Requirement already satisfied: python-dateutil>=2.1 in /usr/local/lib/python3.7/dist-packages (from matplotlib!=3.0.0,>=2.0.0->scikit-image==0.16.2) (2.8.2)\n",
            "Requirement already satisfied: pyparsing!=2.0.4,!=2.1.2,!=2.1.6,>=2.0.1 in /usr/local/lib/python3.7/dist-packages (from matplotlib!=3.0.0,>=2.0.0->scikit-image==0.16.2) (2.4.7)\n",
            "Requirement already satisfied: cycler>=0.10 in /usr/local/lib/python3.7/dist-packages (from matplotlib!=3.0.0,>=2.0.0->scikit-image==0.16.2) (0.10.0)\n",
            "Requirement already satisfied: six in /usr/local/lib/python3.7/dist-packages (from cycler>=0.10->matplotlib!=3.0.0,>=2.0.0->scikit-image==0.16.2) (1.15.0)\n",
            "Collecting keras==2.2.4\n",
            "  Downloading Keras-2.2.4-py2.py3-none-any.whl (312 kB)\n",
            "\u001b[K     |████████████████████████████████| 312 kB 6.9 MB/s \n",
            "\u001b[?25hRequirement already satisfied: keras-applications>=1.0.6 in /usr/local/lib/python3.7/dist-packages (from keras==2.2.4) (1.0.8)\n",
            "Requirement already satisfied: six>=1.9.0 in /usr/local/lib/python3.7/dist-packages (from keras==2.2.4) (1.15.0)\n",
            "Requirement already satisfied: pyyaml in /usr/local/lib/python3.7/dist-packages (from keras==2.2.4) (3.13)\n",
            "Requirement already satisfied: scipy>=0.14 in /usr/local/lib/python3.7/dist-packages (from keras==2.2.4) (1.4.1)\n",
            "Requirement already satisfied: numpy>=1.9.1 in /usr/local/lib/python3.7/dist-packages (from keras==2.2.4) (1.19.5)\n",
            "Requirement already satisfied: keras-preprocessing>=1.0.5 in /usr/local/lib/python3.7/dist-packages (from keras==2.2.4) (1.1.2)\n",
            "Requirement already satisfied: h5py in /usr/local/lib/python3.7/dist-packages (from keras==2.2.4) (2.10.0)\n",
            "Installing collected packages: keras\n",
            "  Attempting uninstall: keras\n",
            "    Found existing installation: keras 2.6.0\n",
            "    Uninstalling keras-2.6.0:\n",
            "      Successfully uninstalled keras-2.6.0\n",
            "Successfully installed keras-2.2.4\n",
            "Collecting wcmatch\n",
            "  Downloading wcmatch-8.2-py3-none-any.whl (41 kB)\n",
            "\u001b[K     |████████████████████████████████| 41 kB 247 kB/s \n",
            "\u001b[?25hCollecting bracex>=2.1.1\n",
            "  Downloading bracex-2.1.1-py3-none-any.whl (10 kB)\n",
            "Installing collected packages: bracex, wcmatch\n",
            "Successfully installed bracex-2.1.1 wcmatch-8.2\n"
          ],
          "name": "stdout"
        }
      ]
    },
    {
      "cell_type": "code",
      "metadata": {
        "colab": {
          "base_uri": "https://localhost:8080/",
          "height": 17
        },
        "id": "YQgfikcgWuLW",
        "outputId": "f2b50f03-e7ff-4a09-8834-29c55f0d71ae"
      },
      "source": [
        "# Restarting the kernel to enable tensorflow v1.14\n",
        "from IPython.core.display import HTML\n",
        "HTML(\"<script>Jupyter.notebook.kernel.restart()</script>\")"
      ],
      "execution_count": 2,
      "outputs": [
        {
          "output_type": "execute_result",
          "data": {
            "text/html": [
              "<script>Jupyter.notebook.kernel.restart()</script>"
            ],
            "text/plain": [
              "<IPython.core.display.HTML object>"
            ]
          },
          "metadata": {
            "tags": []
          },
          "execution_count": 2
        }
      ]
    },
    {
      "cell_type": "code",
      "metadata": {
        "colab": {
          "base_uri": "https://localhost:8080/"
        },
        "id": "5tlG8iofWvg7",
        "outputId": "39571575-1fd1-4812-f520-35c1f0cca351"
      },
      "source": [
        "# Install Mask RCNN\n",
        "!git clone https://github.com/matterport/Mask_RCNN.git"
      ],
      "execution_count": 3,
      "outputs": [
        {
          "output_type": "stream",
          "text": [
            "Cloning into 'Mask_RCNN'...\n",
            "remote: Enumerating objects: 956, done.\u001b[K\n",
            "remote: Total 956 (delta 0), reused 0 (delta 0), pack-reused 956\u001b[K\n",
            "Receiving objects: 100% (956/956), 125.23 MiB | 33.11 MiB/s, done.\n",
            "Resolving deltas: 100% (562/562), done.\n"
          ],
          "name": "stdout"
        }
      ]
    },
    {
      "cell_type": "code",
      "metadata": {
        "colab": {
          "base_uri": "https://localhost:8080/"
        },
        "id": "aIMB9aLXW2jk",
        "outputId": "68ce5c3f-7b20-4c25-fed9-4084daf5f44e"
      },
      "source": [
        "cd Mask_RCNN/"
      ],
      "execution_count": 4,
      "outputs": [
        {
          "output_type": "stream",
          "text": [
            "/content/Mask_RCNN\n"
          ],
          "name": "stdout"
        }
      ]
    },
    {
      "cell_type": "code",
      "metadata": {
        "colab": {
          "base_uri": "https://localhost:8080/"
        },
        "id": "E-eVzAQ8W6LG",
        "outputId": "d2bb0d96-7ad0-487b-ab4a-c63a7e44a666"
      },
      "source": [
        "# Setup libraries for Mas RCNN\n",
        "!python setup.py install\n",
        "!pip show mask-rcnn"
      ],
      "execution_count": 5,
      "outputs": [
        {
          "output_type": "stream",
          "text": [
            "WARNING:root:Fail load requirements file, so using default ones.\n",
            "/usr/local/lib/python3.7/dist-packages/setuptools/dist.py:700: UserWarning: Usage of dash-separated 'description-file' will not be supported in future versions. Please use the underscore name 'description_file' instead\n",
            "  % (opt, underscore_opt))\n",
            "/usr/local/lib/python3.7/dist-packages/setuptools/dist.py:700: UserWarning: Usage of dash-separated 'license-file' will not be supported in future versions. Please use the underscore name 'license_file' instead\n",
            "  % (opt, underscore_opt))\n",
            "/usr/local/lib/python3.7/dist-packages/setuptools/dist.py:700: UserWarning: Usage of dash-separated 'requirements-file' will not be supported in future versions. Please use the underscore name 'requirements_file' instead\n",
            "  % (opt, underscore_opt))\n",
            "running install\n",
            "running bdist_egg\n",
            "running egg_info\n",
            "creating mask_rcnn.egg-info\n",
            "writing mask_rcnn.egg-info/PKG-INFO\n",
            "writing dependency_links to mask_rcnn.egg-info/dependency_links.txt\n",
            "writing top-level names to mask_rcnn.egg-info/top_level.txt\n",
            "writing manifest file 'mask_rcnn.egg-info/SOURCES.txt'\n",
            "reading manifest template 'MANIFEST.in'\n",
            "adding license file 'LICENSE'\n",
            "writing manifest file 'mask_rcnn.egg-info/SOURCES.txt'\n",
            "installing library code to build/bdist.linux-x86_64/egg\n",
            "running install_lib\n",
            "running build_py\n",
            "creating build\n",
            "creating build/lib\n",
            "creating build/lib/mrcnn\n",
            "copying mrcnn/model.py -> build/lib/mrcnn\n",
            "copying mrcnn/__init__.py -> build/lib/mrcnn\n",
            "copying mrcnn/visualize.py -> build/lib/mrcnn\n",
            "copying mrcnn/config.py -> build/lib/mrcnn\n",
            "copying mrcnn/parallel_model.py -> build/lib/mrcnn\n",
            "copying mrcnn/utils.py -> build/lib/mrcnn\n",
            "creating build/bdist.linux-x86_64\n",
            "creating build/bdist.linux-x86_64/egg\n",
            "creating build/bdist.linux-x86_64/egg/mrcnn\n",
            "copying build/lib/mrcnn/model.py -> build/bdist.linux-x86_64/egg/mrcnn\n",
            "copying build/lib/mrcnn/__init__.py -> build/bdist.linux-x86_64/egg/mrcnn\n",
            "copying build/lib/mrcnn/visualize.py -> build/bdist.linux-x86_64/egg/mrcnn\n",
            "copying build/lib/mrcnn/config.py -> build/bdist.linux-x86_64/egg/mrcnn\n",
            "copying build/lib/mrcnn/parallel_model.py -> build/bdist.linux-x86_64/egg/mrcnn\n",
            "copying build/lib/mrcnn/utils.py -> build/bdist.linux-x86_64/egg/mrcnn\n",
            "byte-compiling build/bdist.linux-x86_64/egg/mrcnn/model.py to model.cpython-37.pyc\n",
            "byte-compiling build/bdist.linux-x86_64/egg/mrcnn/__init__.py to __init__.cpython-37.pyc\n",
            "byte-compiling build/bdist.linux-x86_64/egg/mrcnn/visualize.py to visualize.cpython-37.pyc\n",
            "byte-compiling build/bdist.linux-x86_64/egg/mrcnn/config.py to config.cpython-37.pyc\n",
            "byte-compiling build/bdist.linux-x86_64/egg/mrcnn/parallel_model.py to parallel_model.cpython-37.pyc\n",
            "byte-compiling build/bdist.linux-x86_64/egg/mrcnn/utils.py to utils.cpython-37.pyc\n",
            "creating build/bdist.linux-x86_64/egg/EGG-INFO\n",
            "copying mask_rcnn.egg-info/PKG-INFO -> build/bdist.linux-x86_64/egg/EGG-INFO\n",
            "copying mask_rcnn.egg-info/SOURCES.txt -> build/bdist.linux-x86_64/egg/EGG-INFO\n",
            "copying mask_rcnn.egg-info/dependency_links.txt -> build/bdist.linux-x86_64/egg/EGG-INFO\n",
            "copying mask_rcnn.egg-info/top_level.txt -> build/bdist.linux-x86_64/egg/EGG-INFO\n",
            "zip_safe flag not set; analyzing archive contents...\n",
            "creating dist\n",
            "creating 'dist/mask_rcnn-2.1-py3.7.egg' and adding 'build/bdist.linux-x86_64/egg' to it\n",
            "removing 'build/bdist.linux-x86_64/egg' (and everything under it)\n",
            "Processing mask_rcnn-2.1-py3.7.egg\n",
            "Copying mask_rcnn-2.1-py3.7.egg to /usr/local/lib/python3.7/dist-packages\n",
            "Adding mask-rcnn 2.1 to easy-install.pth file\n",
            "\n",
            "Installed /usr/local/lib/python3.7/dist-packages/mask_rcnn-2.1-py3.7.egg\n",
            "Processing dependencies for mask-rcnn==2.1\n",
            "Finished processing dependencies for mask-rcnn==2.1\n",
            "Name: mask-rcnn\n",
            "Version: 2.1\n",
            "Summary: Mask R-CNN for object detection and instance segmentation\n",
            "Home-page: https://github.com/matterport/Mask_RCNN\n",
            "Author: Matterport\n",
            "Author-email: waleed.abdulla@gmail.com\n",
            "License: MIT\n",
            "Location: /usr/local/lib/python3.7/dist-packages/mask_rcnn-2.1-py3.7.egg\n",
            "Requires: \n",
            "Required-by: \n"
          ],
          "name": "stdout"
        }
      ]
    },
    {
      "cell_type": "code",
      "metadata": {
        "colab": {
          "base_uri": "https://localhost:8080/"
        },
        "id": "hAIIagFGXrnJ",
        "outputId": "ef7872b4-4a67-439b-dd8a-f9581507b378"
      },
      "source": [
        "from google.colab import drive\n",
        "drive.mount('/content/drive')"
      ],
      "execution_count": 6,
      "outputs": [
        {
          "output_type": "stream",
          "text": [
            "Mounted at /content/drive\n"
          ],
          "name": "stdout"
        }
      ]
    },
    {
      "cell_type": "code",
      "metadata": {
        "colab": {
          "base_uri": "https://localhost:8080/"
        },
        "id": "NWmN6kDRZN3M",
        "outputId": "5709c423-52cc-4155-c52d-1063411ab92e"
      },
      "source": [
        "\n",
        "import pathlib\n",
        "import shutil\n",
        "import cv2\n",
        "import matplotlib.pyplot as plt\n",
        "import xml.etree.ElementTree as ET\n",
        "import sys\n",
        "from mrcnn.utils import Dataset, extract_bboxes, compute_ap\n",
        "from mrcnn.config import Config\n",
        "from mrcnn.visualize import display_instances\n",
        "from numpy import zeros, asarray\n",
        "from tensorflow.keras.utils import plot_model\n",
        "from mrcnn.model import MaskRCNN, load_image_gt, mold_image\n",
        "from numpy import zeros, asarray, expand_dims, mean\n",
        "import math"
      ],
      "execution_count": 7,
      "outputs": [
        {
          "output_type": "stream",
          "text": [
            "Using TensorFlow backend.\n"
          ],
          "name": "stderr"
        }
      ]
    },
    {
      "cell_type": "code",
      "metadata": {
        "id": "ja0fZ4TUYRq2",
        "colab": {
          "base_uri": "https://localhost:8080/"
        },
        "outputId": "73abe857-f4db-4b10-fc24-6b9db5c1405b"
      },
      "source": [
        "\n",
        "from wcmatch.pathlib import Path\n",
        "ds_path = '/content/drive/MyDrive/backup/tongueDiagnosis/segTraining'\n",
        "num_files = len(list(Path(ds_path).rglob(['*.jpg', '*.JPG', '*.jpeg'])))\n",
        "training_threshold = int(num_files * 0.9)\n",
        "print(training_threshold, num_files - training_threshold)\n",
        "model_path = '/content/drive/MyDrive/backup/tongueDiagnosis/models'"
      ],
      "execution_count": 8,
      "outputs": [
        {
          "output_type": "stream",
          "text": [
            "485 54\n"
          ],
          "name": "stdout"
        }
      ]
    },
    {
      "cell_type": "code",
      "metadata": {
        "id": "_omxXKCBZHOp"
      },
      "source": [
        "class tongueDataset(Dataset):\n",
        "    def load_dataset(self, dataset_dir, is_train=True):\n",
        "        self.add_class(\"dataset\", 1, \"tongue\")\n",
        "\n",
        "        images_dir = dataset_dir\n",
        "        annotations_dir = f'{dataset_dir}/annots'\n",
        "        image_files = Path(dataset_dir).rglob(['*.jpg','*.JPG','*.jpeg'])\n",
        "        for ifile, filename in enumerate(list(image_files)):\n",
        "            image_id = filename.stem\n",
        "            if is_train and ifile >= training_threshold:\n",
        "                continue\n",
        "            if not is_train and ifile < training_threshold:\n",
        "                continue\n",
        "            img_path = filename\n",
        "            ann_path = f'{annotations_dir}/{filename.stem}.xml'\n",
        "            self.add_image('dataset', image_id=image_id, path=img_path, annotation=ann_path)\n",
        "\n",
        "    def extract_boxes(self, filename):\n",
        "        tree = ET.parse(filename)\n",
        "        root = tree.getroot()\n",
        "        boxes = list()\n",
        "        for box in root.findall('.//bndbox'):\n",
        "            xmin = int(box.find('xmin').text)\n",
        "            ymin = int(box.find('ymin').text)\n",
        "            xmax = int(box.find('xmax').text)\n",
        "            ymax = int(box.find('ymax').text)\n",
        "            coors = [xmin, ymin, xmax, ymax]\n",
        "            boxes.append(coors)\n",
        "        width = int(root.find('.//size/width').text)\n",
        "        height = int(root.find('.//size/height').text)\n",
        "        return boxes, width, height\n",
        "\n",
        "    def load_mask(self, image_id):\n",
        "        info = self.image_info[image_id]\n",
        "        path = info['annotation']\n",
        "        boxes, w, h = self.extract_boxes(path)\n",
        "        masks = zeros([h, w, len(boxes)], dtype='uint8')\n",
        "\n",
        "        class_ids = []\n",
        "        for i in range(len(boxes)):\n",
        "            box = boxes[i]\n",
        "            row_s, row_e = box[1], box[3]\n",
        "            col_s, col_e = box[0], box[2]\n",
        "            masks[row_s:row_e, col_s:col_e, i] = 1\n",
        "            class_ids.append(self.class_names.index('tongue'))\n",
        "        return masks, asarray(class_ids, dtype='int32')\n",
        "\n",
        "    def image_reference(self, image_id):\n",
        "        info = self.image_info[image_id]\n",
        "        return info['path']"
      ],
      "execution_count": 9,
      "outputs": []
    },
    {
      "cell_type": "code",
      "metadata": {
        "id": "JqdCwjghZbaZ"
      },
      "source": [
        "class tongueConfig(Config):\n",
        "    NAME = 'tongue_cfg'\n",
        "    NUM_CLASSES = 1 + 1\n",
        "    STEPS_PER_EPOCH = training_threshold\n",
        "    GPU_COUNT = 1\n",
        "    IMAGES_PER_GPU = 1"
      ],
      "execution_count": 10,
      "outputs": []
    },
    {
      "cell_type": "code",
      "metadata": {
        "colab": {
          "base_uri": "https://localhost:8080/"
        },
        "id": "KFx1QEARZpBi",
        "outputId": "bedfa473-9c2d-4dae-e935-6325394f1d9a"
      },
      "source": [
        "training_ds = tongueDataset()\n",
        "training_ds.load_dataset(ds_path, is_train=True)\n",
        "training_ds.prepare()\n",
        "print('Train: %d' % len(training_ds.image_ids))\n",
        "\n",
        "test_ds = tongueDataset()\n",
        "test_ds.load_dataset(ds_path, is_train=False)\n",
        "test_ds.prepare()\n",
        "print('Test: %d' % len(test_ds.image_ids))"
      ],
      "execution_count": 11,
      "outputs": [
        {
          "output_type": "stream",
          "text": [
            "Train: 485\n",
            "Test: 54\n"
          ],
          "name": "stdout"
        }
      ]
    },
    {
      "cell_type": "code",
      "metadata": {
        "colab": {
          "base_uri": "https://localhost:8080/"
        },
        "id": "Vsq59vwvZwTJ",
        "outputId": "273b214b-2f60-40b0-ccc4-cda59675c651"
      },
      "source": [
        "config = tongueConfig()\n",
        "config.display()\n",
        "\n",
        "model = MaskRCNN(mode='training', model_dir=model_path, config=config)\n",
        "model.load_weights('/content/drive/MyDrive/backup/tongueDiagnosis/models/mask_rcnn_coco.h5', \n",
        "                   by_name=True,\n",
        "                   exclude=[\"mrcnn_class_logits\", \"mrcnn_bbox_fc\",  \"mrcnn_bbox\", \"mrcnn_mask\"])\n",
        "model.train(training_ds, test_ds, learning_rate=config.LEARNING_RATE, epochs=16, layers='heads')\n"
      ],
      "execution_count": 12,
      "outputs": [
        {
          "output_type": "stream",
          "text": [
            "\n",
            "Configurations:\n",
            "BACKBONE                       resnet101\n",
            "BACKBONE_STRIDES               [4, 8, 16, 32, 64]\n",
            "BATCH_SIZE                     1\n",
            "BBOX_STD_DEV                   [0.1 0.1 0.2 0.2]\n",
            "COMPUTE_BACKBONE_SHAPE         None\n",
            "DETECTION_MAX_INSTANCES        100\n",
            "DETECTION_MIN_CONFIDENCE       0.7\n",
            "DETECTION_NMS_THRESHOLD        0.3\n",
            "FPN_CLASSIF_FC_LAYERS_SIZE     1024\n",
            "GPU_COUNT                      1\n",
            "GRADIENT_CLIP_NORM             5.0\n",
            "IMAGES_PER_GPU                 1\n",
            "IMAGE_CHANNEL_COUNT            3\n",
            "IMAGE_MAX_DIM                  1024\n",
            "IMAGE_META_SIZE                14\n",
            "IMAGE_MIN_DIM                  800\n",
            "IMAGE_MIN_SCALE                0\n",
            "IMAGE_RESIZE_MODE              square\n",
            "IMAGE_SHAPE                    [1024 1024    3]\n",
            "LEARNING_MOMENTUM              0.9\n",
            "LEARNING_RATE                  0.001\n",
            "LOSS_WEIGHTS                   {'rpn_class_loss': 1.0, 'rpn_bbox_loss': 1.0, 'mrcnn_class_loss': 1.0, 'mrcnn_bbox_loss': 1.0, 'mrcnn_mask_loss': 1.0}\n",
            "MASK_POOL_SIZE                 14\n",
            "MASK_SHAPE                     [28, 28]\n",
            "MAX_GT_INSTANCES               100\n",
            "MEAN_PIXEL                     [123.7 116.8 103.9]\n",
            "MINI_MASK_SHAPE                (56, 56)\n",
            "NAME                           tongue_cfg\n",
            "NUM_CLASSES                    2\n",
            "POOL_SIZE                      7\n",
            "POST_NMS_ROIS_INFERENCE        1000\n",
            "POST_NMS_ROIS_TRAINING         2000\n",
            "PRE_NMS_LIMIT                  6000\n",
            "ROI_POSITIVE_RATIO             0.33\n",
            "RPN_ANCHOR_RATIOS              [0.5, 1, 2]\n",
            "RPN_ANCHOR_SCALES              (32, 64, 128, 256, 512)\n",
            "RPN_ANCHOR_STRIDE              1\n",
            "RPN_BBOX_STD_DEV               [0.1 0.1 0.2 0.2]\n",
            "RPN_NMS_THRESHOLD              0.7\n",
            "RPN_TRAIN_ANCHORS_PER_IMAGE    256\n",
            "STEPS_PER_EPOCH                485\n",
            "TOP_DOWN_PYRAMID_SIZE          256\n",
            "TRAIN_BN                       False\n",
            "TRAIN_ROIS_PER_IMAGE           200\n",
            "USE_MINI_MASK                  True\n",
            "USE_RPN_ROIS                   True\n",
            "VALIDATION_STEPS               50\n",
            "WEIGHT_DECAY                   0.0001\n",
            "\n",
            "\n",
            "WARNING:tensorflow:From /usr/local/lib/python3.7/dist-packages/keras/backend/tensorflow_backend.py:517: The name tf.placeholder is deprecated. Please use tf.compat.v1.placeholder instead.\n",
            "\n",
            "WARNING:tensorflow:From /usr/local/lib/python3.7/dist-packages/keras/backend/tensorflow_backend.py:74: The name tf.get_default_graph is deprecated. Please use tf.compat.v1.get_default_graph instead.\n",
            "\n",
            "WARNING:tensorflow:From /usr/local/lib/python3.7/dist-packages/keras/backend/tensorflow_backend.py:4138: The name tf.random_uniform is deprecated. Please use tf.random.uniform instead.\n",
            "\n",
            "WARNING:tensorflow:From /usr/local/lib/python3.7/dist-packages/keras/backend/tensorflow_backend.py:1919: The name tf.nn.fused_batch_norm is deprecated. Please use tf.compat.v1.nn.fused_batch_norm instead.\n",
            "\n",
            "WARNING:tensorflow:From /usr/local/lib/python3.7/dist-packages/keras/backend/tensorflow_backend.py:3976: The name tf.nn.max_pool is deprecated. Please use tf.nn.max_pool2d instead.\n",
            "\n",
            "WARNING:tensorflow:From /usr/local/lib/python3.7/dist-packages/keras/backend/tensorflow_backend.py:2018: The name tf.image.resize_nearest_neighbor is deprecated. Please use tf.compat.v1.image.resize_nearest_neighbor instead.\n",
            "\n",
            "WARNING:tensorflow:From /usr/local/lib/python3.7/dist-packages/tensorflow_core/python/ops/array_ops.py:1475: where (from tensorflow.python.ops.array_ops) is deprecated and will be removed in a future version.\n",
            "Instructions for updating:\n",
            "Use tf.where in 2.0, which has the same broadcast rule as np.where\n",
            "WARNING:tensorflow:From /content/Mask_RCNN/mrcnn/model.py:553: The name tf.random_shuffle is deprecated. Please use tf.random.shuffle instead.\n",
            "\n",
            "WARNING:tensorflow:From /content/Mask_RCNN/mrcnn/utils.py:202: The name tf.log is deprecated. Please use tf.math.log instead.\n",
            "\n",
            "WARNING:tensorflow:From /content/Mask_RCNN/mrcnn/model.py:600: calling crop_and_resize_v1 (from tensorflow.python.ops.image_ops_impl) with box_ind is deprecated and will be removed in a future version.\n",
            "Instructions for updating:\n",
            "box_ind is deprecated, use box_indices instead\n",
            "WARNING:tensorflow:From /usr/local/lib/python3.7/dist-packages/keras/backend/tensorflow_backend.py:174: The name tf.get_default_session is deprecated. Please use tf.compat.v1.get_default_session instead.\n",
            "\n",
            "WARNING:tensorflow:From /usr/local/lib/python3.7/dist-packages/keras/backend/tensorflow_backend.py:181: The name tf.ConfigProto is deprecated. Please use tf.compat.v1.ConfigProto instead.\n",
            "\n",
            "WARNING:tensorflow:From /usr/local/lib/python3.7/dist-packages/keras/backend/tensorflow_backend.py:186: The name tf.Session is deprecated. Please use tf.compat.v1.Session instead.\n",
            "\n",
            "WARNING:tensorflow:From /usr/local/lib/python3.7/dist-packages/keras/backend/tensorflow_backend.py:190: The name tf.global_variables is deprecated. Please use tf.compat.v1.global_variables instead.\n",
            "\n",
            "WARNING:tensorflow:From /usr/local/lib/python3.7/dist-packages/keras/backend/tensorflow_backend.py:199: The name tf.is_variable_initialized is deprecated. Please use tf.compat.v1.is_variable_initialized instead.\n",
            "\n",
            "WARNING:tensorflow:From /usr/local/lib/python3.7/dist-packages/keras/backend/tensorflow_backend.py:206: The name tf.variables_initializer is deprecated. Please use tf.compat.v1.variables_initializer instead.\n",
            "\n",
            "\n",
            "Starting at epoch 0. LR=0.001\n",
            "\n",
            "Checkpoint Path: /content/drive/MyDrive/backup/tongueDiagnosis/models/tongue_cfg20210813T1925/mask_rcnn_tongue_cfg_{epoch:04d}.h5\n",
            "Selecting layers to train\n",
            "fpn_c5p5               (Conv2D)\n",
            "fpn_c4p4               (Conv2D)\n",
            "fpn_c3p3               (Conv2D)\n",
            "fpn_c2p2               (Conv2D)\n",
            "fpn_p5                 (Conv2D)\n",
            "fpn_p2                 (Conv2D)\n",
            "fpn_p3                 (Conv2D)\n",
            "fpn_p4                 (Conv2D)\n",
            "In model:  rpn_model\n",
            "    rpn_conv_shared        (Conv2D)\n",
            "    rpn_class_raw          (Conv2D)\n",
            "    rpn_bbox_pred          (Conv2D)\n",
            "mrcnn_mask_conv1       (TimeDistributed)\n",
            "mrcnn_mask_bn1         (TimeDistributed)\n",
            "mrcnn_mask_conv2       (TimeDistributed)\n",
            "mrcnn_mask_bn2         (TimeDistributed)\n",
            "mrcnn_class_conv1      (TimeDistributed)\n",
            "mrcnn_class_bn1        (TimeDistributed)\n",
            "mrcnn_mask_conv3       (TimeDistributed)\n",
            "mrcnn_mask_bn3         (TimeDistributed)\n",
            "mrcnn_class_conv2      (TimeDistributed)\n",
            "mrcnn_class_bn2        (TimeDistributed)\n",
            "mrcnn_mask_conv4       (TimeDistributed)\n",
            "mrcnn_mask_bn4         (TimeDistributed)\n",
            "mrcnn_bbox_fc          (TimeDistributed)\n",
            "mrcnn_mask_deconv      (TimeDistributed)\n",
            "mrcnn_class_logits     (TimeDistributed)\n",
            "mrcnn_mask             (TimeDistributed)\n",
            "WARNING:tensorflow:From /usr/local/lib/python3.7/dist-packages/keras/optimizers.py:790: The name tf.train.Optimizer is deprecated. Please use tf.compat.v1.train.Optimizer instead.\n",
            "\n"
          ],
          "name": "stdout"
        },
        {
          "output_type": "stream",
          "text": [
            "/usr/local/lib/python3.7/dist-packages/tensorflow_core/python/framework/indexed_slices.py:424: UserWarning: Converting sparse IndexedSlices to a dense Tensor of unknown shape. This may consume a large amount of memory.\n",
            "  \"Converting sparse IndexedSlices to a dense Tensor of unknown shape. \"\n",
            "/usr/local/lib/python3.7/dist-packages/tensorflow_core/python/framework/indexed_slices.py:424: UserWarning: Converting sparse IndexedSlices to a dense Tensor of unknown shape. This may consume a large amount of memory.\n",
            "  \"Converting sparse IndexedSlices to a dense Tensor of unknown shape. \"\n",
            "/usr/local/lib/python3.7/dist-packages/tensorflow_core/python/framework/indexed_slices.py:424: UserWarning: Converting sparse IndexedSlices to a dense Tensor of unknown shape. This may consume a large amount of memory.\n",
            "  \"Converting sparse IndexedSlices to a dense Tensor of unknown shape. \"\n"
          ],
          "name": "stderr"
        },
        {
          "output_type": "stream",
          "text": [
            "WARNING:tensorflow:From /usr/local/lib/python3.7/dist-packages/keras/backend/tensorflow_backend.py:986: The name tf.assign_add is deprecated. Please use tf.compat.v1.assign_add instead.\n",
            "\n",
            "WARNING:tensorflow:From /usr/local/lib/python3.7/dist-packages/keras/backend/tensorflow_backend.py:973: The name tf.assign is deprecated. Please use tf.compat.v1.assign instead.\n",
            "\n"
          ],
          "name": "stdout"
        },
        {
          "output_type": "stream",
          "text": [
            "/usr/local/lib/python3.7/dist-packages/keras/engine/training_generator.py:47: UserWarning: Using a generator with `use_multiprocessing=True` and multiple workers may duplicate your data. Please consider using the`keras.utils.Sequence class.\n",
            "  UserWarning('Using a generator with `use_multiprocessing=True`'\n"
          ],
          "name": "stderr"
        },
        {
          "output_type": "stream",
          "text": [
            "WARNING:tensorflow:From /usr/local/lib/python3.7/dist-packages/keras/callbacks.py:850: The name tf.summary.merge_all is deprecated. Please use tf.compat.v1.summary.merge_all instead.\n",
            "\n",
            "WARNING:tensorflow:From /usr/local/lib/python3.7/dist-packages/keras/callbacks.py:853: The name tf.summary.FileWriter is deprecated. Please use tf.compat.v1.summary.FileWriter instead.\n",
            "\n",
            "Epoch 1/16\n",
            "485/485 [==============================] - 261s 538ms/step - loss: 0.8097 - rpn_class_loss: 0.0038 - rpn_bbox_loss: 0.2151 - mrcnn_class_loss: 0.0214 - mrcnn_bbox_loss: 0.2939 - mrcnn_mask_loss: 0.2755 - val_loss: 0.8909 - val_rpn_class_loss: 0.0038 - val_rpn_bbox_loss: 0.4195 - val_mrcnn_class_loss: 0.0092 - val_mrcnn_bbox_loss: 0.2120 - val_mrcnn_mask_loss: 0.2465\n",
            "WARNING:tensorflow:From /usr/local/lib/python3.7/dist-packages/keras/callbacks.py:995: The name tf.Summary is deprecated. Please use tf.compat.v1.Summary instead.\n",
            "\n",
            "Epoch 2/16\n",
            "485/485 [==============================] - 238s 491ms/step - loss: 0.4895 - rpn_class_loss: 0.0039 - rpn_bbox_loss: 0.1812 - mrcnn_class_loss: 0.0128 - mrcnn_bbox_loss: 0.1260 - mrcnn_mask_loss: 0.1656 - val_loss: 1.0135 - val_rpn_class_loss: 0.0124 - val_rpn_bbox_loss: 0.5111 - val_mrcnn_class_loss: 0.0079 - val_mrcnn_bbox_loss: 0.2403 - val_mrcnn_mask_loss: 0.2418\n",
            "Epoch 3/16\n",
            "485/485 [==============================] - 241s 497ms/step - loss: 0.4342 - rpn_class_loss: 0.0033 - rpn_bbox_loss: 0.1735 - mrcnn_class_loss: 0.0094 - mrcnn_bbox_loss: 0.0946 - mrcnn_mask_loss: 0.1534 - val_loss: 0.6618 - val_rpn_class_loss: 0.0043 - val_rpn_bbox_loss: 0.3708 - val_mrcnn_class_loss: 0.0147 - val_mrcnn_bbox_loss: 0.1112 - val_mrcnn_mask_loss: 0.1608\n",
            "Epoch 4/16\n",
            "485/485 [==============================] - 242s 499ms/step - loss: 0.3654 - rpn_class_loss: 0.0031 - rpn_bbox_loss: 0.1369 - mrcnn_class_loss: 0.0084 - mrcnn_bbox_loss: 0.0770 - mrcnn_mask_loss: 0.1399 - val_loss: 0.5849 - val_rpn_class_loss: 0.0047 - val_rpn_bbox_loss: 0.2699 - val_mrcnn_class_loss: 0.0105 - val_mrcnn_bbox_loss: 0.1234 - val_mrcnn_mask_loss: 0.1765\n",
            "Epoch 5/16\n",
            "485/485 [==============================] - 242s 500ms/step - loss: 0.3278 - rpn_class_loss: 0.0026 - rpn_bbox_loss: 0.1277 - mrcnn_class_loss: 0.0073 - mrcnn_bbox_loss: 0.0625 - mrcnn_mask_loss: 0.1277 - val_loss: 0.7956 - val_rpn_class_loss: 0.0097 - val_rpn_bbox_loss: 0.3664 - val_mrcnn_class_loss: 0.0138 - val_mrcnn_bbox_loss: 0.1728 - val_mrcnn_mask_loss: 0.2329\n",
            "Epoch 6/16\n",
            "485/485 [==============================] - 242s 499ms/step - loss: 0.3469 - rpn_class_loss: 0.0029 - rpn_bbox_loss: 0.1393 - mrcnn_class_loss: 0.0068 - mrcnn_bbox_loss: 0.0683 - mrcnn_mask_loss: 0.1296 - val_loss: 0.7174 - val_rpn_class_loss: 0.0056 - val_rpn_bbox_loss: 0.3699 - val_mrcnn_class_loss: 0.0070 - val_mrcnn_bbox_loss: 0.1212 - val_mrcnn_mask_loss: 0.2137\n",
            "Epoch 7/16\n",
            "485/485 [==============================] - 242s 499ms/step - loss: 0.3056 - rpn_class_loss: 0.0028 - rpn_bbox_loss: 0.1189 - mrcnn_class_loss: 0.0059 - mrcnn_bbox_loss: 0.0576 - mrcnn_mask_loss: 0.1202 - val_loss: 0.7308 - val_rpn_class_loss: 0.0049 - val_rpn_bbox_loss: 0.3617 - val_mrcnn_class_loss: 0.0417 - val_mrcnn_bbox_loss: 0.1349 - val_mrcnn_mask_loss: 0.1876\n",
            "Epoch 8/16\n",
            "485/485 [==============================] - 242s 499ms/step - loss: 0.2926 - rpn_class_loss: 0.0028 - rpn_bbox_loss: 0.1157 - mrcnn_class_loss: 0.0068 - mrcnn_bbox_loss: 0.0501 - mrcnn_mask_loss: 0.1171 - val_loss: 0.5367 - val_rpn_class_loss: 0.0037 - val_rpn_bbox_loss: 0.2323 - val_mrcnn_class_loss: 0.0142 - val_mrcnn_bbox_loss: 0.1015 - val_mrcnn_mask_loss: 0.1851\n",
            "Epoch 9/16\n",
            "485/485 [==============================] - 242s 499ms/step - loss: 0.2727 - rpn_class_loss: 0.0022 - rpn_bbox_loss: 0.0995 - mrcnn_class_loss: 0.0064 - mrcnn_bbox_loss: 0.0525 - mrcnn_mask_loss: 0.1121 - val_loss: 1.0152 - val_rpn_class_loss: 0.0148 - val_rpn_bbox_loss: 0.7066 - val_mrcnn_class_loss: 0.0131 - val_mrcnn_bbox_loss: 0.1166 - val_mrcnn_mask_loss: 0.1641\n",
            "Epoch 10/16\n",
            "485/485 [==============================] - 242s 500ms/step - loss: 0.2822 - rpn_class_loss: 0.0021 - rpn_bbox_loss: 0.1115 - mrcnn_class_loss: 0.0049 - mrcnn_bbox_loss: 0.0456 - mrcnn_mask_loss: 0.1181 - val_loss: 0.6130 - val_rpn_class_loss: 0.0043 - val_rpn_bbox_loss: 0.3709 - val_mrcnn_class_loss: 0.0118 - val_mrcnn_bbox_loss: 0.0681 - val_mrcnn_mask_loss: 0.1578\n",
            "Epoch 11/16\n",
            "485/485 [==============================] - 243s 502ms/step - loss: 0.2335 - rpn_class_loss: 0.0021 - rpn_bbox_loss: 0.0889 - mrcnn_class_loss: 0.0054 - mrcnn_bbox_loss: 0.0357 - mrcnn_mask_loss: 0.1014 - val_loss: 0.5190 - val_rpn_class_loss: 0.0033 - val_rpn_bbox_loss: 0.2524 - val_mrcnn_class_loss: 0.0086 - val_mrcnn_bbox_loss: 0.0933 - val_mrcnn_mask_loss: 0.1615\n",
            "Epoch 12/16\n",
            "485/485 [==============================] - 243s 502ms/step - loss: 0.2692 - rpn_class_loss: 0.0021 - rpn_bbox_loss: 0.0941 - mrcnn_class_loss: 0.0059 - mrcnn_bbox_loss: 0.0478 - mrcnn_mask_loss: 0.1193 - val_loss: 0.4462 - val_rpn_class_loss: 0.0019 - val_rpn_bbox_loss: 0.2122 - val_mrcnn_class_loss: 0.0120 - val_mrcnn_bbox_loss: 0.0719 - val_mrcnn_mask_loss: 0.1482\n",
            "Epoch 13/16\n",
            "485/485 [==============================] - 243s 502ms/step - loss: 0.2193 - rpn_class_loss: 0.0017 - rpn_bbox_loss: 0.0748 - mrcnn_class_loss: 0.0060 - mrcnn_bbox_loss: 0.0373 - mrcnn_mask_loss: 0.0996 - val_loss: 0.9909 - val_rpn_class_loss: 0.0125 - val_rpn_bbox_loss: 0.7148 - val_mrcnn_class_loss: 0.0076 - val_mrcnn_bbox_loss: 0.0913 - val_mrcnn_mask_loss: 0.1648\n",
            "Epoch 14/16\n",
            "485/485 [==============================] - 242s 500ms/step - loss: 0.2424 - rpn_class_loss: 0.0022 - rpn_bbox_loss: 0.0882 - mrcnn_class_loss: 0.0073 - mrcnn_bbox_loss: 0.0385 - mrcnn_mask_loss: 0.1062 - val_loss: 0.6574 - val_rpn_class_loss: 0.0087 - val_rpn_bbox_loss: 0.3619 - val_mrcnn_class_loss: 0.0165 - val_mrcnn_bbox_loss: 0.0999 - val_mrcnn_mask_loss: 0.1705\n",
            "Epoch 15/16\n",
            "485/485 [==============================] - 242s 498ms/step - loss: 0.2015 - rpn_class_loss: 0.0020 - rpn_bbox_loss: 0.0656 - mrcnn_class_loss: 0.0063 - mrcnn_bbox_loss: 0.0319 - mrcnn_mask_loss: 0.0957 - val_loss: 0.7104 - val_rpn_class_loss: 0.0056 - val_rpn_bbox_loss: 0.4948 - val_mrcnn_class_loss: 0.0029 - val_mrcnn_bbox_loss: 0.0682 - val_mrcnn_mask_loss: 0.1389\n",
            "Epoch 16/16\n",
            "485/485 [==============================] - 242s 498ms/step - loss: 0.2272 - rpn_class_loss: 0.0015 - rpn_bbox_loss: 0.0769 - mrcnn_class_loss: 0.0069 - mrcnn_bbox_loss: 0.0369 - mrcnn_mask_loss: 0.1049 - val_loss: 0.7091 - val_rpn_class_loss: 0.0046 - val_rpn_bbox_loss: 0.4075 - val_mrcnn_class_loss: 0.0111 - val_mrcnn_bbox_loss: 0.1088 - val_mrcnn_mask_loss: 0.1771\n"
          ],
          "name": "stdout"
        }
      ]
    },
    {
      "cell_type": "code",
      "metadata": {
        "id": "bi9LMjVubRqq"
      },
      "source": [
        "class predictionConfig(Config):\n",
        "    NAME = 'tongue_cfg'\n",
        "    NUM_CLASSES = 1 + 1\n",
        "    GPU_COUNT = 1\n",
        "    IMAGES_PER_GPU = 1"
      ],
      "execution_count": 12,
      "outputs": []
    },
    {
      "cell_type": "code",
      "metadata": {
        "id": "XtFexi1UbTtt"
      },
      "source": [
        "def evaluate_model(ds, model, cfg):\n",
        "    APs = list()\n",
        "    for i, img_id in enumerate(ds.image_ids):\n",
        "        print(ds.image_info[i])\n",
        "        image, image_meta, gt_class_id, gt_bbox, gt_mask = load_image_gt(ds, cfg, img_id, use_mini_mask=False)\n",
        "        scaled_image = mold_image(image, cfg)\n",
        "        sample = expand_dims(scaled_image, 0)\n",
        "        yhat = model.detect(sample, verbose=0)\n",
        "        r = yhat[0]\n",
        "        AP, _, _, _ = compute_ap(gt_bbox, gt_class_id, gt_mask, r['rois'], r['class_ids'], r['scores'], r['masks'],0.65)\n",
        "        print(AP)\n",
        "        if math.isnan(AP):\n",
        "            continue\n",
        "        APs.append(AP)\n",
        "    mAP = mean(APs)\n",
        "    return mAP"
      ],
      "execution_count": 36,
      "outputs": []
    },
    {
      "cell_type": "code",
      "metadata": {
        "colab": {
          "base_uri": "https://localhost:8080/"
        },
        "id": "EKhbt11ebz-C",
        "outputId": "e9b3da9c-b91e-460c-9bc5-3b58892fe089"
      },
      "source": [
        "\n",
        "training_ds = tongueDataset()\n",
        "training_ds.load_dataset(ds_path, is_train=True)\n",
        "training_ds.prepare()\n",
        "print('Train: %d' % len(training_ds.image_ids))\n",
        "\n",
        "test_ds = tongueDataset()\n",
        "test_ds.load_dataset(ds_path, is_train=False)\n",
        "test_ds.prepare()\n",
        "print('Test: %d' % len(test_ds.image_ids))\n",
        "\n",
        "\n",
        "weights_file = '/content/drive/MyDrive/backup/tongueDiagnosis/models/mask_rcnn_tongue_cfg_0016.h5'  # !!!!!need to identify\n",
        "print(model_path)\n",
        "cfg_pred = predictionConfig()\n",
        "model = MaskRCNN(mode='inference', model_dir=model_path, config=cfg_pred)\n",
        "model.load_weights(weights_file, by_name=True)"
      ],
      "execution_count": 14,
      "outputs": [
        {
          "output_type": "stream",
          "text": [
            "Train: 485\n",
            "Test: 54\n",
            "/content/drive/MyDrive/backup/tongueDiagnosis/models\n",
            "WARNING:tensorflow:From /usr/local/lib/python3.7/dist-packages/keras/backend/tensorflow_backend.py:517: The name tf.placeholder is deprecated. Please use tf.compat.v1.placeholder instead.\n",
            "\n",
            "WARNING:tensorflow:From /usr/local/lib/python3.7/dist-packages/keras/backend/tensorflow_backend.py:74: The name tf.get_default_graph is deprecated. Please use tf.compat.v1.get_default_graph instead.\n",
            "\n",
            "WARNING:tensorflow:From /usr/local/lib/python3.7/dist-packages/keras/backend/tensorflow_backend.py:4138: The name tf.random_uniform is deprecated. Please use tf.random.uniform instead.\n",
            "\n",
            "WARNING:tensorflow:From /usr/local/lib/python3.7/dist-packages/keras/backend/tensorflow_backend.py:1919: The name tf.nn.fused_batch_norm is deprecated. Please use tf.compat.v1.nn.fused_batch_norm instead.\n",
            "\n",
            "WARNING:tensorflow:From /usr/local/lib/python3.7/dist-packages/keras/backend/tensorflow_backend.py:3976: The name tf.nn.max_pool is deprecated. Please use tf.nn.max_pool2d instead.\n",
            "\n",
            "WARNING:tensorflow:From /usr/local/lib/python3.7/dist-packages/keras/backend/tensorflow_backend.py:2018: The name tf.image.resize_nearest_neighbor is deprecated. Please use tf.compat.v1.image.resize_nearest_neighbor instead.\n",
            "\n",
            "WARNING:tensorflow:From /content/Mask_RCNN/mrcnn/model.py:341: The name tf.log is deprecated. Please use tf.math.log instead.\n",
            "\n",
            "WARNING:tensorflow:From /content/Mask_RCNN/mrcnn/model.py:399: where (from tensorflow.python.ops.array_ops) is deprecated and will be removed in a future version.\n",
            "Instructions for updating:\n",
            "Use tf.where in 2.0, which has the same broadcast rule as np.where\n",
            "WARNING:tensorflow:From /content/Mask_RCNN/mrcnn/model.py:423: calling crop_and_resize_v1 (from tensorflow.python.ops.image_ops_impl) with box_ind is deprecated and will be removed in a future version.\n",
            "Instructions for updating:\n",
            "box_ind is deprecated, use box_indices instead\n",
            "WARNING:tensorflow:From /content/Mask_RCNN/mrcnn/model.py:720: The name tf.sets.set_intersection is deprecated. Please use tf.sets.intersection instead.\n",
            "\n",
            "WARNING:tensorflow:From /content/Mask_RCNN/mrcnn/model.py:722: The name tf.sparse_tensor_to_dense is deprecated. Please use tf.sparse.to_dense instead.\n",
            "\n",
            "WARNING:tensorflow:From /content/Mask_RCNN/mrcnn/model.py:772: to_float (from tensorflow.python.ops.math_ops) is deprecated and will be removed in a future version.\n",
            "Instructions for updating:\n",
            "Use `tf.cast` instead.\n",
            "WARNING:tensorflow:From /usr/local/lib/python3.7/dist-packages/keras/backend/tensorflow_backend.py:174: The name tf.get_default_session is deprecated. Please use tf.compat.v1.get_default_session instead.\n",
            "\n",
            "WARNING:tensorflow:From /usr/local/lib/python3.7/dist-packages/keras/backend/tensorflow_backend.py:181: The name tf.ConfigProto is deprecated. Please use tf.compat.v1.ConfigProto instead.\n",
            "\n",
            "WARNING:tensorflow:From /usr/local/lib/python3.7/dist-packages/keras/backend/tensorflow_backend.py:186: The name tf.Session is deprecated. Please use tf.compat.v1.Session instead.\n",
            "\n",
            "WARNING:tensorflow:From /usr/local/lib/python3.7/dist-packages/keras/backend/tensorflow_backend.py:190: The name tf.global_variables is deprecated. Please use tf.compat.v1.global_variables instead.\n",
            "\n",
            "WARNING:tensorflow:From /usr/local/lib/python3.7/dist-packages/keras/backend/tensorflow_backend.py:199: The name tf.is_variable_initialized is deprecated. Please use tf.compat.v1.is_variable_initialized instead.\n",
            "\n",
            "WARNING:tensorflow:From /usr/local/lib/python3.7/dist-packages/keras/backend/tensorflow_backend.py:206: The name tf.variables_initializer is deprecated. Please use tf.compat.v1.variables_initializer instead.\n",
            "\n"
          ],
          "name": "stdout"
        }
      ]
    },
    {
      "cell_type": "code",
      "metadata": {
        "colab": {
          "base_uri": "https://localhost:8080/"
        },
        "id": "GP4ZPDMycUW-",
        "outputId": "7075b55d-59b8-48dc-c717-6343f75579f8"
      },
      "source": [
        "train_mAP = evaluate_model(test_ds, model, cfg_pred)\n",
        "print(\"Test mAP: %.3f\" % train_mAP)"
      ],
      "execution_count": 37,
      "outputs": [
        {
          "output_type": "stream",
          "text": [
            "{'id': 'IMG_5816', 'source': 'dataset', 'path': PosixPath('/content/drive/MyDrive/backup/tongueDiagnosis/segTraining/IMG_5816.JPG'), 'annotation': '/content/drive/MyDrive/backup/tongueDiagnosis/segTraining/annots/IMG_5816.xml'}\n",
            "1.0\n",
            "{'id': 'IMG_5792', 'source': 'dataset', 'path': PosixPath('/content/drive/MyDrive/backup/tongueDiagnosis/segTraining/IMG_5792.JPG'), 'annotation': '/content/drive/MyDrive/backup/tongueDiagnosis/segTraining/annots/IMG_5792.xml'}\n",
            "1.0\n",
            "{'id': 'IMG_5813', 'source': 'dataset', 'path': PosixPath('/content/drive/MyDrive/backup/tongueDiagnosis/segTraining/IMG_5813.JPG'), 'annotation': '/content/drive/MyDrive/backup/tongueDiagnosis/segTraining/annots/IMG_5813.xml'}\n",
            "1.0\n",
            "{'id': 'IMG_5786', 'source': 'dataset', 'path': PosixPath('/content/drive/MyDrive/backup/tongueDiagnosis/segTraining/IMG_5786.JPG'), 'annotation': '/content/drive/MyDrive/backup/tongueDiagnosis/segTraining/annots/IMG_5786.xml'}\n",
            "1.0\n",
            "{'id': 'IMG_5750', 'source': 'dataset', 'path': PosixPath('/content/drive/MyDrive/backup/tongueDiagnosis/segTraining/IMG_5750.JPG'), 'annotation': '/content/drive/MyDrive/backup/tongueDiagnosis/segTraining/annots/IMG_5750.xml'}\n",
            "1.0\n",
            "{'id': 'IMG_5778', 'source': 'dataset', 'path': PosixPath('/content/drive/MyDrive/backup/tongueDiagnosis/segTraining/IMG_5778.JPG'), 'annotation': '/content/drive/MyDrive/backup/tongueDiagnosis/segTraining/annots/IMG_5778.xml'}\n",
            "0.0\n",
            "{'id': 'IMG_5744', 'source': 'dataset', 'path': PosixPath('/content/drive/MyDrive/backup/tongueDiagnosis/segTraining/IMG_5744.JPG'), 'annotation': '/content/drive/MyDrive/backup/tongueDiagnosis/segTraining/annots/IMG_5744.xml'}\n",
            "0.0\n",
            "{'id': 'IMG_5752', 'source': 'dataset', 'path': PosixPath('/content/drive/MyDrive/backup/tongueDiagnosis/segTraining/IMG_5752.JPG'), 'annotation': '/content/drive/MyDrive/backup/tongueDiagnosis/segTraining/annots/IMG_5752.xml'}\n",
            "1.0\n",
            "{'id': 'IMG_5734', 'source': 'dataset', 'path': PosixPath('/content/drive/MyDrive/backup/tongueDiagnosis/segTraining/IMG_5734.JPG'), 'annotation': '/content/drive/MyDrive/backup/tongueDiagnosis/segTraining/annots/IMG_5734.xml'}\n",
            "1.0\n",
            "{'id': 'IMG_5735', 'source': 'dataset', 'path': PosixPath('/content/drive/MyDrive/backup/tongueDiagnosis/segTraining/IMG_5735.JPG'), 'annotation': '/content/drive/MyDrive/backup/tongueDiagnosis/segTraining/annots/IMG_5735.xml'}\n",
            "1.0\n",
            "{'id': 'IMG_5785', 'source': 'dataset', 'path': PosixPath('/content/drive/MyDrive/backup/tongueDiagnosis/segTraining/IMG_5785.JPG'), 'annotation': '/content/drive/MyDrive/backup/tongueDiagnosis/segTraining/annots/IMG_5785.xml'}\n",
            "1.0\n",
            "{'id': 'IMG_5784', 'source': 'dataset', 'path': PosixPath('/content/drive/MyDrive/backup/tongueDiagnosis/segTraining/IMG_5784.JPG'), 'annotation': '/content/drive/MyDrive/backup/tongueDiagnosis/segTraining/annots/IMG_5784.xml'}\n",
            "1.0\n",
            "{'id': 'IMG_5791', 'source': 'dataset', 'path': PosixPath('/content/drive/MyDrive/backup/tongueDiagnosis/segTraining/IMG_5791.JPG'), 'annotation': '/content/drive/MyDrive/backup/tongueDiagnosis/segTraining/annots/IMG_5791.xml'}\n",
            "1.0\n",
            "{'id': 'other2', 'source': 'dataset', 'path': PosixPath('/content/drive/MyDrive/backup/tongueDiagnosis/segTraining/other2.JPG'), 'annotation': '/content/drive/MyDrive/backup/tongueDiagnosis/segTraining/annots/other2.xml'}\n",
            "1.0\n",
            "{'id': 'IMG_5746', 'source': 'dataset', 'path': PosixPath('/content/drive/MyDrive/backup/tongueDiagnosis/segTraining/IMG_5746.JPG'), 'annotation': '/content/drive/MyDrive/backup/tongueDiagnosis/segTraining/annots/IMG_5746.xml'}\n",
            "1.0\n",
            "{'id': 'other1', 'source': 'dataset', 'path': PosixPath('/content/drive/MyDrive/backup/tongueDiagnosis/segTraining/other1.JPG'), 'annotation': '/content/drive/MyDrive/backup/tongueDiagnosis/segTraining/annots/other1.xml'}\n",
            "1.0\n",
            "{'id': 'IMG_5747', 'source': 'dataset', 'path': PosixPath('/content/drive/MyDrive/backup/tongueDiagnosis/segTraining/IMG_5747.JPG'), 'annotation': '/content/drive/MyDrive/backup/tongueDiagnosis/segTraining/annots/IMG_5747.xml'}\n",
            "1.0\n",
            "{'id': 'IMG_5801', 'source': 'dataset', 'path': PosixPath('/content/drive/MyDrive/backup/tongueDiagnosis/segTraining/IMG_5801.JPG'), 'annotation': '/content/drive/MyDrive/backup/tongueDiagnosis/segTraining/annots/IMG_5801.xml'}\n",
            "0.0\n",
            "{'id': 'IMG_5800', 'source': 'dataset', 'path': PosixPath('/content/drive/MyDrive/backup/tongueDiagnosis/segTraining/IMG_5800.JPG'), 'annotation': '/content/drive/MyDrive/backup/tongueDiagnosis/segTraining/annots/IMG_5800.xml'}\n",
            "1.0\n",
            "{'id': 'IMG_5815', 'source': 'dataset', 'path': PosixPath('/content/drive/MyDrive/backup/tongueDiagnosis/segTraining/IMG_5815.JPG'), 'annotation': '/content/drive/MyDrive/backup/tongueDiagnosis/segTraining/annots/IMG_5815.xml'}\n",
            "1.0\n",
            "{'id': 'IMG_5802', 'source': 'dataset', 'path': PosixPath('/content/drive/MyDrive/backup/tongueDiagnosis/segTraining/IMG_5802.JPG'), 'annotation': '/content/drive/MyDrive/backup/tongueDiagnosis/segTraining/annots/IMG_5802.xml'}\n",
            "1.0\n",
            "{'id': 'IMG_5753', 'source': 'dataset', 'path': PosixPath('/content/drive/MyDrive/backup/tongueDiagnosis/segTraining/IMG_5753.JPG'), 'annotation': '/content/drive/MyDrive/backup/tongueDiagnosis/segTraining/annots/IMG_5753.xml'}\n",
            "1.0\n",
            "{'id': 'IMG_5732', 'source': 'dataset', 'path': PosixPath('/content/drive/MyDrive/backup/tongueDiagnosis/segTraining/IMG_5732.JPG'), 'annotation': '/content/drive/MyDrive/backup/tongueDiagnosis/segTraining/annots/IMG_5732.xml'}\n",
            "1.0\n",
            "{'id': 'IMG_5777', 'source': 'dataset', 'path': PosixPath('/content/drive/MyDrive/backup/tongueDiagnosis/segTraining/IMG_5777.JPG'), 'annotation': '/content/drive/MyDrive/backup/tongueDiagnosis/segTraining/annots/IMG_5777.xml'}\n",
            "1.0\n",
            "{'id': 'IMG_5788', 'source': 'dataset', 'path': PosixPath('/content/drive/MyDrive/backup/tongueDiagnosis/segTraining/IMG_5788.JPG'), 'annotation': '/content/drive/MyDrive/backup/tongueDiagnosis/segTraining/annots/IMG_5788.xml'}\n",
            "1.0\n",
            "{'id': 'IMG_5733', 'source': 'dataset', 'path': PosixPath('/content/drive/MyDrive/backup/tongueDiagnosis/segTraining/IMG_5733.JPG'), 'annotation': '/content/drive/MyDrive/backup/tongueDiagnosis/segTraining/annots/IMG_5733.xml'}\n",
            "1.0\n",
            "{'id': 'IMG_5736', 'source': 'dataset', 'path': PosixPath('/content/drive/MyDrive/backup/tongueDiagnosis/segTraining/IMG_5736.JPG'), 'annotation': '/content/drive/MyDrive/backup/tongueDiagnosis/segTraining/annots/IMG_5736.xml'}\n",
            "1.0\n",
            "{'id': 'IMG_5731', 'source': 'dataset', 'path': PosixPath('/content/drive/MyDrive/backup/tongueDiagnosis/segTraining/IMG_5731.JPG'), 'annotation': '/content/drive/MyDrive/backup/tongueDiagnosis/segTraining/annots/IMG_5731.xml'}\n",
            "1.0\n",
            "{'id': 'IMG_5739', 'source': 'dataset', 'path': PosixPath('/content/drive/MyDrive/backup/tongueDiagnosis/segTraining/IMG_5739.JPG'), 'annotation': '/content/drive/MyDrive/backup/tongueDiagnosis/segTraining/annots/IMG_5739.xml'}\n",
            "1.0\n",
            "{'id': 'IMG_5776', 'source': 'dataset', 'path': PosixPath('/content/drive/MyDrive/backup/tongueDiagnosis/segTraining/IMG_5776.JPG'), 'annotation': '/content/drive/MyDrive/backup/tongueDiagnosis/segTraining/annots/IMG_5776.xml'}\n",
            "1.0\n",
            "{'id': 'IMG_5762', 'source': 'dataset', 'path': PosixPath('/content/drive/MyDrive/backup/tongueDiagnosis/segTraining/IMG_5762.JPG'), 'annotation': '/content/drive/MyDrive/backup/tongueDiagnosis/segTraining/annots/IMG_5762.xml'}\n",
            "1.0\n",
            "{'id': 'IMG_5763', 'source': 'dataset', 'path': PosixPath('/content/drive/MyDrive/backup/tongueDiagnosis/segTraining/IMG_5763.JPG'), 'annotation': '/content/drive/MyDrive/backup/tongueDiagnosis/segTraining/annots/IMG_5763.xml'}\n",
            "0.0\n",
            "{'id': 'IMG_5738', 'source': 'dataset', 'path': PosixPath('/content/drive/MyDrive/backup/tongueDiagnosis/segTraining/IMG_5738.JPG'), 'annotation': '/content/drive/MyDrive/backup/tongueDiagnosis/segTraining/annots/IMG_5738.xml'}\n",
            "0.0\n",
            "{'id': 'IMG_5789', 'source': 'dataset', 'path': PosixPath('/content/drive/MyDrive/backup/tongueDiagnosis/segTraining/IMG_5789.JPG'), 'annotation': '/content/drive/MyDrive/backup/tongueDiagnosis/segTraining/annots/IMG_5789.xml'}\n",
            "1.0\n",
            "{'id': 'IMG_5737', 'source': 'dataset', 'path': PosixPath('/content/drive/MyDrive/backup/tongueDiagnosis/segTraining/IMG_5737.JPG'), 'annotation': '/content/drive/MyDrive/backup/tongueDiagnosis/segTraining/annots/IMG_5737.xml'}\n",
            "1.0\n",
            "{'id': 'IMG_5764', 'source': 'dataset', 'path': PosixPath('/content/drive/MyDrive/backup/tongueDiagnosis/segTraining/IMG_5764.JPG'), 'annotation': '/content/drive/MyDrive/backup/tongueDiagnosis/segTraining/annots/IMG_5764.xml'}\n",
            "1.0\n",
            "{'id': 'IMG_5775', 'source': 'dataset', 'path': PosixPath('/content/drive/MyDrive/backup/tongueDiagnosis/segTraining/IMG_5775.JPG'), 'annotation': '/content/drive/MyDrive/backup/tongueDiagnosis/segTraining/annots/IMG_5775.xml'}\n",
            "1.0\n",
            "{'id': 'IMG_5765', 'source': 'dataset', 'path': PosixPath('/content/drive/MyDrive/backup/tongueDiagnosis/segTraining/IMG_5765.JPG'), 'annotation': '/content/drive/MyDrive/backup/tongueDiagnosis/segTraining/annots/IMG_5765.xml'}\n",
            "1.0\n",
            "{'id': 'IMG_5758', 'source': 'dataset', 'path': PosixPath('/content/drive/MyDrive/backup/tongueDiagnosis/segTraining/IMG_5758.JPG'), 'annotation': '/content/drive/MyDrive/backup/tongueDiagnosis/segTraining/annots/IMG_5758.xml'}\n",
            "1.0\n",
            "{'id': 'IMG_5774', 'source': 'dataset', 'path': PosixPath('/content/drive/MyDrive/backup/tongueDiagnosis/segTraining/IMG_5774.JPG'), 'annotation': '/content/drive/MyDrive/backup/tongueDiagnosis/segTraining/annots/IMG_5774.xml'}\n",
            "1.0\n",
            "{'id': 'IMG_5749', 'source': 'dataset', 'path': PosixPath('/content/drive/MyDrive/backup/tongueDiagnosis/segTraining/IMG_5749.JPG'), 'annotation': '/content/drive/MyDrive/backup/tongueDiagnosis/segTraining/annots/IMG_5749.xml'}\n",
            "1.0\n",
            "{'id': 'IMG_5773', 'source': 'dataset', 'path': PosixPath('/content/drive/MyDrive/backup/tongueDiagnosis/segTraining/IMG_5773.JPG'), 'annotation': '/content/drive/MyDrive/backup/tongueDiagnosis/segTraining/annots/IMG_5773.xml'}\n",
            "1.0\n",
            "{'id': 'IMG_5772', 'source': 'dataset', 'path': PosixPath('/content/drive/MyDrive/backup/tongueDiagnosis/segTraining/IMG_5772.JPG'), 'annotation': '/content/drive/MyDrive/backup/tongueDiagnosis/segTraining/annots/IMG_5772.xml'}\n",
            "1.0\n",
            "{'id': 'IMG_5799', 'source': 'dataset', 'path': PosixPath('/content/drive/MyDrive/backup/tongueDiagnosis/segTraining/IMG_5799.JPG'), 'annotation': '/content/drive/MyDrive/backup/tongueDiagnosis/segTraining/annots/IMG_5799.xml'}\n",
            "1.0\n",
            "{'id': 'IMG_5766', 'source': 'dataset', 'path': PosixPath('/content/drive/MyDrive/backup/tongueDiagnosis/segTraining/IMG_5766.JPG'), 'annotation': '/content/drive/MyDrive/backup/tongueDiagnosis/segTraining/annots/IMG_5766.xml'}\n",
            "0.0\n",
            "{'id': 'IMG_5771', 'source': 'dataset', 'path': PosixPath('/content/drive/MyDrive/backup/tongueDiagnosis/segTraining/IMG_5771.JPG'), 'annotation': '/content/drive/MyDrive/backup/tongueDiagnosis/segTraining/annots/IMG_5771.xml'}\n",
            "1.0\n",
            "{'id': 'IMG_5748', 'source': 'dataset', 'path': PosixPath('/content/drive/MyDrive/backup/tongueDiagnosis/segTraining/IMG_5748.JPG'), 'annotation': '/content/drive/MyDrive/backup/tongueDiagnosis/segTraining/annots/IMG_5748.xml'}\n",
            "1.0\n",
            "{'id': 'IMG_5759', 'source': 'dataset', 'path': PosixPath('/content/drive/MyDrive/backup/tongueDiagnosis/segTraining/IMG_5759.JPG'), 'annotation': '/content/drive/MyDrive/backup/tongueDiagnosis/segTraining/annots/IMG_5759.xml'}\n",
            "1.0\n",
            "{'id': 'IMG_5767', 'source': 'dataset', 'path': PosixPath('/content/drive/MyDrive/backup/tongueDiagnosis/segTraining/IMG_5767.JPG'), 'annotation': '/content/drive/MyDrive/backup/tongueDiagnosis/segTraining/annots/IMG_5767.xml'}\n",
            "1.0\n",
            "{'id': 'IMG_5798', 'source': 'dataset', 'path': PosixPath('/content/drive/MyDrive/backup/tongueDiagnosis/segTraining/IMG_5798.JPG'), 'annotation': '/content/drive/MyDrive/backup/tongueDiagnosis/segTraining/annots/IMG_5798.xml'}\n",
            "0.0\n",
            "{'id': 'other5', 'source': 'dataset', 'path': PosixPath('/content/drive/MyDrive/backup/tongueDiagnosis/segTraining/other5.jpeg'), 'annotation': '/content/drive/MyDrive/backup/tongueDiagnosis/segTraining/annots/other5.xml'}\n",
            "1.0\n",
            "{'id': 'other4', 'source': 'dataset', 'path': PosixPath('/content/drive/MyDrive/backup/tongueDiagnosis/segTraining/other4.jpeg'), 'annotation': '/content/drive/MyDrive/backup/tongueDiagnosis/segTraining/annots/other4.xml'}\n",
            "1.0\n",
            "{'id': 'other3', 'source': 'dataset', 'path': PosixPath('/content/drive/MyDrive/backup/tongueDiagnosis/segTraining/other3.jpeg'), 'annotation': '/content/drive/MyDrive/backup/tongueDiagnosis/segTraining/annots/other3.xml'}\n",
            "1.0\n",
            "{'id': 'other6', 'source': 'dataset', 'path': PosixPath('/content/drive/MyDrive/backup/tongueDiagnosis/segTraining/other6.jpeg'), 'annotation': '/content/drive/MyDrive/backup/tongueDiagnosis/segTraining/annots/other6.xml'}\n",
            "1.0\n",
            "Test mAP: 0.870\n"
          ],
          "name": "stdout"
        }
      ]
    },
    {
      "cell_type": "code",
      "metadata": {
        "id": "VL86eAOyfEVV"
      },
      "source": [
        "def plot_actual_vs_predicted(ds, model, cfg, start, end):\n",
        "    i = 0\n",
        "    for i_img in range(start, end):\n",
        "        image = ds.load_image(i_img)\n",
        "        n_image = end - start + 1\n",
        "        print(ds.image_info[i_img]['id'])\n",
        "        mask, _ = ds.load_mask(i_img)\n",
        "        scaled_image = mold_image(image, cfg)\n",
        "        sample = expand_dims(scaled_image, 0)\n",
        "        yhat = model.detect(sample, verbose=0)[0]\n",
        "        plt.subplot(n_image, 2, i*2+1)\n",
        "        plt.imshow(image)\n",
        "        # plt.title('Actual')\n",
        "        for j in range(mask.shape[2]):\n",
        "            plt.imshow(mask[:, :, j], cmap='gray', alpha=0.3)\n",
        "        plt.subplot(n_image, 2, i*2+2)\n",
        "        plt.imshow(image)\n",
        "        # plt.title('Predict')\n",
        "        ax = plt.gca()\n",
        "        for box in yhat['rois']:\n",
        "            y1, x1, y2, x2 = box\n",
        "            width, height = x2 - x1, y2 - y1\n",
        "            rect = Rectangle((x1, y1), width, height, fill=False, color='red')\n",
        "            ax.add_patch(rect)\n",
        "        i += 1\n",
        "    plt.show()"
      ],
      "execution_count": 49,
      "outputs": []
    },
    {
      "cell_type": "code",
      "metadata": {
        "colab": {
          "base_uri": "https://localhost:8080/",
          "height": 918
        },
        "id": "EL3n1imGfT-4",
        "outputId": "b0111f2b-0b80-4fb5-b0d3-186aa42e5800"
      },
      "source": [
        "from matplotlib.patches import Rectangle\n",
        "plot_actual_vs_predicted(test_ds, model, cfg_pred, 5,10)"
      ],
      "execution_count": 50,
      "outputs": [
        {
          "output_type": "stream",
          "text": [
            "IMG_5778\n",
            "[[0 0 0 ... 0 0 0]\n",
            " [0 0 0 ... 0 0 0]\n",
            " [0 0 0 ... 0 0 0]\n",
            " ...\n",
            " [0 0 0 ... 0 0 0]\n",
            " [0 0 0 ... 0 0 0]\n",
            " [0 0 0 ... 0 0 0]]\n",
            "IMG_5744\n",
            "[[0 0 0 ... 0 0 0]\n",
            " [0 0 0 ... 0 0 0]\n",
            " [0 0 0 ... 0 0 0]\n",
            " ...\n",
            " [0 0 0 ... 0 0 0]\n",
            " [0 0 0 ... 0 0 0]\n",
            " [0 0 0 ... 0 0 0]]\n",
            "IMG_5752\n",
            "[[0 0 0 ... 0 0 0]\n",
            " [0 0 0 ... 0 0 0]\n",
            " [0 0 0 ... 0 0 0]\n",
            " ...\n",
            " [0 0 0 ... 0 0 0]\n",
            " [0 0 0 ... 0 0 0]\n",
            " [0 0 0 ... 0 0 0]]\n",
            "IMG_5734\n",
            "[[0 0 0 ... 0 0 0]\n",
            " [0 0 0 ... 0 0 0]\n",
            " [0 0 0 ... 0 0 0]\n",
            " ...\n",
            " [0 0 0 ... 0 0 0]\n",
            " [0 0 0 ... 0 0 0]\n",
            " [0 0 0 ... 0 0 0]]\n",
            "IMG_5735\n",
            "[[0 0 0 ... 0 0 0]\n",
            " [0 0 0 ... 0 0 0]\n",
            " [0 0 0 ... 0 0 0]\n",
            " ...\n",
            " [0 0 0 ... 0 0 0]\n",
            " [0 0 0 ... 0 0 0]\n",
            " [0 0 0 ... 0 0 0]]\n"
          ],
          "name": "stdout"
        },
        {
          "output_type": "display_data",
          "data": {
            "image/png": "[encoded data removed]",
            "text/plain": [
              "<Figure size 432x288 with 10 Axes>"
            ]
          },
          "metadata": {
            "tags": [],
            "needs_background": "light"
          }
        }
      ]
    }
  ]
}