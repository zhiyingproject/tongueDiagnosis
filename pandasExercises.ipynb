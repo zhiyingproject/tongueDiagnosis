{
  "nbformat": 4,
  "nbformat_minor": 0,
  "metadata": {
    "colab": {
      "name": "pandasExercises.ipynb",
      "provenance": [],
      "collapsed_sections": [],
      "authorship_tag": "ABX9TyM/Skl52h/Ktu50AtYbm8Ev",
      "include_colab_link": true
    },
    "kernelspec": {
      "name": "python3",
      "display_name": "Python 3"
    },
    "language_info": {
      "name": "python"
    }
  },
  "cells": [
    {
      "cell_type": "markdown",
      "metadata": {
        "id": "view-in-github",
        "colab_type": "text"
      },
      "source": [
        "<a href=\"https://colab.research.google.com/github/zhiyingproject/tongueDiagnosis/blob/main/pandasExercises.ipynb\" target=\"_parent\"><img src=\"https://colab.research.google.com/assets/colab-badge.svg\" alt=\"Open In Colab\"/></a>"
      ]
    },
    {
      "cell_type": "markdown",
      "metadata": {
        "id": "S9AJS4ekzHNw"
      },
      "source": [
        "# This note book lists the exercises for practising **pandas**"
      ]
    },
    {
      "cell_type": "markdown",
      "metadata": {
        "id": "NP3dYk6qzb3W"
      },
      "source": [
        "1. Series"
      ]
    },
    {
      "cell_type": "code",
      "metadata": {
        "id": "ouLs39DD0FCF"
      },
      "source": [
        "import pandas as pd"
      ],
      "execution_count": 2,
      "outputs": []
    },
    {
      "cell_type": "code",
      "metadata": {
        "colab": {
          "base_uri": "https://localhost:8080/"
        },
        "id": "cKELMxeczB4Q",
        "outputId": "f1d06cfa-b2e0-4c6a-f54b-be521d2d971e"
      },
      "source": [
        "# Create a pandas series\n",
        "s1 = pd.Series([1,2,3,4,5])\n",
        "s2 = pd.Series([2,4,5,7,8])\n",
        "# Convert the series to a python list\n",
        "lst = s.to_list()\n",
        "# Show the dataset's type\n",
        "print(type(s))\n",
        "# Add, subtrace, multiple and divide two Pandas' "
      ],
      "execution_count": 7,
      "outputs": [
        {
          "output_type": "stream",
          "name": "stdout",
          "text": [
            "<class 'pandas.core.series.Series'>\n"
          ]
        }
      ]
    }
  ]
}